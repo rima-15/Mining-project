{
 "cells": [
  {
   "cell_type": "markdown",
   "id": "14e9f3b5-1e66-4831-a336-b8c19dfa1fb1",
   "metadata": {},
   "source": [
    "# Obesity Levels "
   ]
  },
  {
   "cell_type": "markdown",
   "id": "d9085657-65c4-468b-86ab-952fe43c91d0",
   "metadata": {},
   "source": [
    "### Our Motivation \n",
    "The \"Obesity Levels\" dataset has captured our interest because obesity is a major public health issue with significant consequences. By examining this dataset, we hope to uncover the key factors contributing to obesity and leverage machine learning models to enhance our ability to classify and predict obesity levels. Understanding these factors will empower individuals and healthcare professionals to create more effective prevention strategies, ultimately reducing obesity rates and improving public health outcomes. "
   ]
  },
  {
   "cell_type": "markdown",
   "id": "b454c950-361b-47ec-b9ee-cb73ba9c9f5f",
   "metadata": {},
   "source": [
    "### Our Goal \n",
    "Our goal is to create a machine-learning model that predicts individual obesity levels using both classification and clustering techniques. The classification approach will enable us to train the model to differentiate between individuals with different obesity levels based on a variety of health, dietary, and lifestyle factors. Clustering, on the other hand, will help identify hidden patterns in the dataset by grouping individuals with similar obesity risk profiles. These clusters will then assist in predicting obesity levels for new individuals by analyzing their resemblance to existing groups."
   ]
  },
  {
   "cell_type": "markdown",
   "id": "958d8c76-6aad-4526-bd28-0d06217cc14c",
   "metadata": {},
   "source": [
    "##### source of dataset : https://www.kaggle.com/datasets/fatemehmehrparvar/obesity-levels"
   ]
  },
  {
   "cell_type": "code",
   "execution_count": 1,
   "id": "5fc9040f-7ab8-40fc-8e22-a8b7a2ea8369",
   "metadata": {},
   "outputs": [],
   "source": [
    "import pandas as pd\n",
    "df = pd.read_csv('Dataset/ObesityDataSet_raw_and_data_sinthetic.csv')"
   ]
  },
  {
   "cell_type": "code",
   "execution_count": 2,
   "id": "267ff4dd-8e3e-480f-b695-80a55ab67030",
   "metadata": {},
   "outputs": [
    {
     "name": "stdout",
     "output_type": "stream",
     "text": [
      "<class 'pandas.core.frame.DataFrame'>\n",
      "RangeIndex: 2111 entries, 0 to 2110\n",
      "Data columns (total 17 columns):\n",
      " #   Column                          Non-Null Count  Dtype  \n",
      "---  ------                          --------------  -----  \n",
      " 0   Age                             2111 non-null   float64\n",
      " 1   Gender                          2111 non-null   object \n",
      " 2   Height                          2111 non-null   float64\n",
      " 3   Weight                          2111 non-null   float64\n",
      " 4   CALC                            2111 non-null   object \n",
      " 5   FAVC                            2111 non-null   object \n",
      " 6   FCVC                            2111 non-null   float64\n",
      " 7   NCP                             2111 non-null   float64\n",
      " 8   SCC                             2111 non-null   object \n",
      " 9   SMOKE                           2111 non-null   object \n",
      " 10  CH2O                            2111 non-null   float64\n",
      " 11  family_history_with_overweight  2111 non-null   object \n",
      " 12  FAF                             2111 non-null   float64\n",
      " 13  TUE                             2111 non-null   float64\n",
      " 14  CAEC                            2111 non-null   object \n",
      " 15  MTRANS                          2111 non-null   object \n",
      " 16  NObeyesdad                      2111 non-null   object \n",
      "dtypes: float64(8), object(9)\n",
      "memory usage: 280.5+ KB\n"
     ]
    }
   ],
   "source": [
    "df.info()"
   ]
  },
  {
   "cell_type": "markdown",
   "id": "124fa78f-85b7-48ac-92ef-9ba41f85540b",
   "metadata": {},
   "source": [
    "#### General Information About The Dataset\n",
    "- Dataset include 17 attributes and 2111 records.\n",
    "- There is 8 attributes of type float and the other 9 of type object. \n",
    "- Class label : NObeyesdad ( type of obesity ).\n",
    "- There are no missing values."
   ]
  },
  {
   "cell_type": "markdown",
   "id": "da0fb538-1979-4dfd-b5a4-e54452038b2c",
   "metadata": {},
   "source": [
    "#### Clarifying Attributes' Shortcuts\n",
    "- FAVC : Feature, Binary, \" Do you eat high caloric food frequently? \"\n",
    "- FCVC : Feature, Integer, \" Do you usually eat vegetables in your meals? \"\n",
    "- NCP : Feature, Continuous, \" How many main meals do you have daily? \"\n",
    "-  CAEC : Feature, Categorical, \" Do you eat any food between meals? \"\n",
    "-  CH2O: Feature, Continuous, \" How much water do you drink daily? \"\n",
    "-  SCC: Feature, Binary, \" Do you monitor the calories you eat daily? \"\n",
    "-  FAF: Feature, Continuous, \" How often do you have physical activity? \"\n",
    "-  TUE : Feature, Integer, \" How much time do you use technological devices such as cell phone, videogames, television, computer and others? \"\n",
    "-  CALC : Feature, Categorical, \" How often do you drink alcohol? \"\n",
    "-  MTRANS : Feature, Categorical, \" Which transportation do you usually use? \"\n",
    "-  NObeyesdad : Target, Categorical, \"Obesity level\"\n"
   ]
  }
 ],
 "metadata": {
  "kernelspec": {
   "display_name": "Python 3 (ipykernel)",
   "language": "python",
   "name": "python3"
  },
  "language_info": {
   "codemirror_mode": {
    "name": "ipython",
    "version": 3
   },
   "file_extension": ".py",
   "mimetype": "text/x-python",
   "name": "python",
   "nbconvert_exporter": "python",
   "pygments_lexer": "ipython3",
   "version": "3.12.4"
  }
 },
 "nbformat": 4,
 "nbformat_minor": 5
}
