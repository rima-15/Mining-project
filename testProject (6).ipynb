{
 "cells": [
  {
   "cell_type": "markdown",
   "id": "14e9f3b5-1e66-4831-a336-b8c19dfa1fb1",
   "metadata": {},
   "source": [
    "# Obesity levels "
   ]
  },
  {
   "cell_type": "markdown",
   "id": "d9085657-65c4-468b-86ab-952fe43c91d0",
   "metadata": {},
   "source": [
    "### Our Motivation \n",
    "The \"Obesity Levels\" dataset has captured our interest because obesity is a major public health issue with significant consequences. By examining this dataset, we hope to uncover the key factors contributing to obesity and leverage machine learning models to enhance our ability to classify and predict obesity levels. Understanding these factors will empower individuals and healthcare professionals to create more effective prevention strategies, ultimately reducing obesity rates and improving public health outcomes. "
   ]
  },
  {
   "cell_type": "markdown",
   "id": "b454c950-361b-47ec-b9ee-cb73ba9c9f5f",
   "metadata": {},
   "source": [
    "### Our Goal \n",
    "Our goal is to create a machine-learning model that predicts individual obesity levels using both classification and clustering techniques. The classification approach will enable us to train the model to differentiate between individuals with different obesity levels based on a variety of health, dietary, and lifestyle factors. Clustering, on the other hand, will help identify hidden patterns in the dataset by grouping individuals with similar obesity risk profiles. These clusters will then assist in predicting obesity levels for new individuals by analyzing their resemblance to existing groups."
   ]
  },
  {
   "cell_type": "markdown",
   "id": "958d8c76-6aad-4526-bd28-0d06217cc14c",
   "metadata": {},
   "source": [
    "##### source of dataset : https://www.kaggle.com/datasets/fatemehmehrparvar/obesity-levels"
   ]
  },
  {
   "cell_type": "code",
   "execution_count": 1,
   "id": "5fc9040f-7ab8-40fc-8e22-a8b7a2ea8369",
   "metadata": {},
   "outputs": [],
   "source": [
    "import pandas as pd\n",
    "df = pd.read_csv('Dataset/ObesityDataSet_raw_and_data_sinthetic.csv')"
   ]
  },
  {
   "cell_type": "code",
   "execution_count": 2,
   "id": "267ff4dd-8e3e-480f-b695-80a55ab67030",
   "metadata": {},
   "outputs": [
    {
     "name": "stdout",
     "output_type": "stream",
     "text": [
      "<class 'pandas.core.frame.DataFrame'>\n",
      "RangeIndex: 2111 entries, 0 to 2110\n",
      "Data columns (total 17 columns):\n",
      " #   Column                          Non-Null Count  Dtype  \n",
      "---  ------                          --------------  -----  \n",
      " 0   Age                             2111 non-null   float64\n",
      " 1   Gender                          2111 non-null   object \n",
      " 2   Height                          2111 non-null   float64\n",
      " 3   Weight                          2111 non-null   float64\n",
      " 4   CALC                            2111 non-null   object \n",
      " 5   FAVC                            2111 non-null   object \n",
      " 6   FCVC                            2111 non-null   float64\n",
      " 7   NCP                             2111 non-null   float64\n",
      " 8   SCC                             2111 non-null   object \n",
      " 9   SMOKE                           2111 non-null   object \n",
      " 10  CH2O                            2111 non-null   float64\n",
      " 11  family_history_with_overweight  2111 non-null   object \n",
      " 12  FAF                             2111 non-null   float64\n",
      " 13  TUE                             2111 non-null   float64\n",
      " 14  CAEC                            2111 non-null   object \n",
      " 15  MTRANS                          2111 non-null   object \n",
      " 16  NObeyesdad                      2111 non-null   object \n",
      "dtypes: float64(8), object(9)\n",
      "memory usage: 280.5+ KB\n"
     ]
    }
   ],
   "source": [
    "df.info()"
   ]
  },
  {
   "cell_type": "markdown",
   "id": "396b4708-bebc-4646-a3af-a39da56102c1",
   "metadata": {},
   "source": [
    "#### our dataset includes 17 attributes and 2111 records "
   ]
  },
  {
   "cell_type": "markdown",
   "id": "080ed07c-f947-43ce-b548-78f32e95ed0d",
   "metadata": {},
   "source": [
    "#### 8 attributes of type float and the other 9 of type object "
   ]
  },
  {
   "cell_type": "markdown",
   "id": "a793ea67-212b-480b-a9ab-f920d2b1a2f3",
   "metadata": {},
   "source": [
    "#### class label : NObeyesdad ( type of obesity ) "
   ]
  },
  {
   "cell_type": "markdown",
   "id": "da0fb538-1979-4dfd-b5a4-e54452038b2c",
   "metadata": {},
   "source": [
    "##### Clarifying shortcuts for some attributes :"
   ]
  },
  {
   "cell_type": "markdown",
   "id": "e32dfe65-9e29-4cb1-8a1b-111445a9be3a",
   "metadata": {},
   "source": [
    "###### FAVC : Feature, Binary, \" Do you eat high caloric food frequently? \""
   ]
  },
  {
   "cell_type": "markdown",
   "id": "e42d371a-9db0-477b-9568-0f41791cdb23",
   "metadata": {},
   "source": [
    "###### FCVC : Feature, Integer, \" Do you usually eat vegetables in your meals? \""
   ]
  },
  {
   "cell_type": "markdown",
   "id": "02e7fe68-37f3-4dfa-839f-ecaa84fd66da",
   "metadata": {},
   "source": [
    "###### NCP : Feature, Continuous, \" How many main meals do you have daily? \""
   ]
  },
  {
   "cell_type": "markdown",
   "id": "083d01c0-c864-4b64-963f-72641c445719",
   "metadata": {},
   "source": [
    "###### CAEC : Feature, Categorical, \" Do you eat any food between meals? \""
   ]
  },
  {
   "cell_type": "markdown",
   "id": "2e5d03a4-f340-4567-8bc8-5bc5c203a329",
   "metadata": {},
   "source": [
    "###### CH2O: Feature, Continuous, \" How much water do you drink daily? \""
   ]
  },
  {
   "cell_type": "markdown",
   "id": "faa41c28-c41e-4e10-8d57-f2250664f4b3",
   "metadata": {},
   "source": [
    "###### SCC: Feature, Binary, \" Do you monitor the calories you eat daily? \"\n"
   ]
  },
  {
   "cell_type": "markdown",
   "id": "6fb71972-e926-4deb-ab13-af19d9a2ef65",
   "metadata": {},
   "source": [
    "###### FAF: Feature, Continuous, \" How often do you have physical activity? \""
   ]
  },
  {
   "cell_type": "markdown",
   "id": "862fc695-153b-4466-a209-078d4da155ab",
   "metadata": {},
   "source": [
    "###### TUE : Feature, Integer, \" How much time do you use technological devices such as cell phone, videogames, television, computer and others? \""
   ]
  },
  {
   "cell_type": "markdown",
   "id": "73107092-7ddd-4388-bac9-94e5e37b1870",
   "metadata": {},
   "source": [
    "###### CALC : Feature, Categorical, \" How often do you drink alcohol? \""
   ]
  },
  {
   "cell_type": "markdown",
   "id": "d76d8f37-7d4b-4dc0-93d5-757dd1200545",
   "metadata": {},
   "source": [
    "###### MTRANS : Feature, Categorical, \" Which transportation do you usually use? \""
   ]
  },
  {
   "cell_type": "markdown",
   "id": "7632b775-d7e8-4b8b-885f-2be74cf2227c",
   "metadata": {},
   "source": [
    "###### NObeyesdad : Target, Categorical, \"Obesity level\""
   ]
  },
  {
   "cell_type": "code",
   "execution_count": 3,
   "id": "e2835ff7-0ed3-492f-973b-99680fde83df",
   "metadata": {},
   "outputs": [
    {
     "data": {
      "text/html": [
       "<div>\n",
       "<style scoped>\n",
       "    .dataframe tbody tr th:only-of-type {\n",
       "        vertical-align: middle;\n",
       "    }\n",
       "\n",
       "    .dataframe tbody tr th {\n",
       "        vertical-align: top;\n",
       "    }\n",
       "\n",
       "    .dataframe thead th {\n",
       "        text-align: right;\n",
       "    }\n",
       "</style>\n",
       "<table border=\"1\" class=\"dataframe\">\n",
       "  <thead>\n",
       "    <tr style=\"text-align: right;\">\n",
       "      <th></th>\n",
       "      <th>Age</th>\n",
       "      <th>Height</th>\n",
       "      <th>Weight</th>\n",
       "      <th>FCVC</th>\n",
       "      <th>NCP</th>\n",
       "      <th>CH2O</th>\n",
       "      <th>FAF</th>\n",
       "      <th>TUE</th>\n",
       "    </tr>\n",
       "  </thead>\n",
       "  <tbody>\n",
       "    <tr>\n",
       "      <th>count</th>\n",
       "      <td>2111.000000</td>\n",
       "      <td>2111.000000</td>\n",
       "      <td>2111.000000</td>\n",
       "      <td>2111.000000</td>\n",
       "      <td>2111.000000</td>\n",
       "      <td>2111.000000</td>\n",
       "      <td>2111.000000</td>\n",
       "      <td>2111.000000</td>\n",
       "    </tr>\n",
       "    <tr>\n",
       "      <th>mean</th>\n",
       "      <td>24.312600</td>\n",
       "      <td>1.701677</td>\n",
       "      <td>86.586058</td>\n",
       "      <td>2.419043</td>\n",
       "      <td>2.685628</td>\n",
       "      <td>2.008011</td>\n",
       "      <td>1.010298</td>\n",
       "      <td>0.657866</td>\n",
       "    </tr>\n",
       "    <tr>\n",
       "      <th>std</th>\n",
       "      <td>6.345968</td>\n",
       "      <td>0.093305</td>\n",
       "      <td>26.191172</td>\n",
       "      <td>0.533927</td>\n",
       "      <td>0.778039</td>\n",
       "      <td>0.612953</td>\n",
       "      <td>0.850592</td>\n",
       "      <td>0.608927</td>\n",
       "    </tr>\n",
       "    <tr>\n",
       "      <th>min</th>\n",
       "      <td>14.000000</td>\n",
       "      <td>1.450000</td>\n",
       "      <td>39.000000</td>\n",
       "      <td>1.000000</td>\n",
       "      <td>1.000000</td>\n",
       "      <td>1.000000</td>\n",
       "      <td>0.000000</td>\n",
       "      <td>0.000000</td>\n",
       "    </tr>\n",
       "    <tr>\n",
       "      <th>25%</th>\n",
       "      <td>19.947192</td>\n",
       "      <td>1.630000</td>\n",
       "      <td>65.473343</td>\n",
       "      <td>2.000000</td>\n",
       "      <td>2.658738</td>\n",
       "      <td>1.584812</td>\n",
       "      <td>0.124505</td>\n",
       "      <td>0.000000</td>\n",
       "    </tr>\n",
       "    <tr>\n",
       "      <th>50%</th>\n",
       "      <td>22.777890</td>\n",
       "      <td>1.700499</td>\n",
       "      <td>83.000000</td>\n",
       "      <td>2.385502</td>\n",
       "      <td>3.000000</td>\n",
       "      <td>2.000000</td>\n",
       "      <td>1.000000</td>\n",
       "      <td>0.625350</td>\n",
       "    </tr>\n",
       "    <tr>\n",
       "      <th>75%</th>\n",
       "      <td>26.000000</td>\n",
       "      <td>1.768464</td>\n",
       "      <td>107.430682</td>\n",
       "      <td>3.000000</td>\n",
       "      <td>3.000000</td>\n",
       "      <td>2.477420</td>\n",
       "      <td>1.666678</td>\n",
       "      <td>1.000000</td>\n",
       "    </tr>\n",
       "    <tr>\n",
       "      <th>max</th>\n",
       "      <td>61.000000</td>\n",
       "      <td>1.980000</td>\n",
       "      <td>173.000000</td>\n",
       "      <td>3.000000</td>\n",
       "      <td>4.000000</td>\n",
       "      <td>3.000000</td>\n",
       "      <td>3.000000</td>\n",
       "      <td>2.000000</td>\n",
       "    </tr>\n",
       "  </tbody>\n",
       "</table>\n",
       "</div>"
      ],
      "text/plain": [
       "               Age       Height       Weight         FCVC          NCP  \\\n",
       "count  2111.000000  2111.000000  2111.000000  2111.000000  2111.000000   \n",
       "mean     24.312600     1.701677    86.586058     2.419043     2.685628   \n",
       "std       6.345968     0.093305    26.191172     0.533927     0.778039   \n",
       "min      14.000000     1.450000    39.000000     1.000000     1.000000   \n",
       "25%      19.947192     1.630000    65.473343     2.000000     2.658738   \n",
       "50%      22.777890     1.700499    83.000000     2.385502     3.000000   \n",
       "75%      26.000000     1.768464   107.430682     3.000000     3.000000   \n",
       "max      61.000000     1.980000   173.000000     3.000000     4.000000   \n",
       "\n",
       "              CH2O          FAF          TUE  \n",
       "count  2111.000000  2111.000000  2111.000000  \n",
       "mean      2.008011     1.010298     0.657866  \n",
       "std       0.612953     0.850592     0.608927  \n",
       "min       1.000000     0.000000     0.000000  \n",
       "25%       1.584812     0.124505     0.000000  \n",
       "50%       2.000000     1.000000     0.625350  \n",
       "75%       2.477420     1.666678     1.000000  \n",
       "max       3.000000     3.000000     2.000000  "
      ]
     },
     "execution_count": 3,
     "metadata": {},
     "output_type": "execute_result"
    }
   ],
   "source": [
    "df.describe()"
   ]
  },
  {
   "cell_type": "markdown",
   "id": "09cc696e-bc4d-42f3-81a7-75ceaa0bf231",
   "metadata": {},
   "source": [
    "###### This shows a summary of some statistics informations that will help us to know our sample more such as the average age and other attributes , but some are not helpful such as \" CH2O \" "
   ]
  },
  {
   "cell_type": "code",
   "execution_count": null,
   "id": "2b2a9840-efce-4559-96d1-006b3bfad433",
   "metadata": {},
   "outputs": [],
   "source": []
  }
 ],
 "metadata": {
  "kernelspec": {
   "display_name": "Python 3 (ipykernel)",
   "language": "python",
   "name": "python3"
  },
  "language_info": {
   "codemirror_mode": {
    "name": "ipython",
    "version": 3
   },
   "file_extension": ".py",
   "mimetype": "text/x-python",
   "name": "python",
   "nbconvert_exporter": "python",
   "pygments_lexer": "ipython3",
   "version": "3.10.8"
  }
 },
 "nbformat": 4,
 "nbformat_minor": 5
}
